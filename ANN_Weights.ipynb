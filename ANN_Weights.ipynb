{
  "nbformat": 4,
  "nbformat_minor": 0,
  "metadata": {
    "colab": {
      "name": "ANN_Weights.ipynb",
      "version": "0.3.2",
      "provenance": []
    },
    "kernelspec": {
      "name": "python3",
      "display_name": "Python 3"
    }
  },
  "cells": [
    {
      "cell_type": "code",
      "metadata": {
        "id": "cvWx-11EdM0N",
        "colab_type": "code",
        "colab": {}
      },
      "source": [
        "from keras.models import Sequential\n",
        "from keras.layers import Dense\n",
        "import numpy as np"
      ],
      "execution_count": 0,
      "outputs": []
    },
    {
      "cell_type": "code",
      "metadata": {
        "id": "ad5vflY8e-zv",
        "colab_type": "code",
        "colab": {}
      },
      "source": [
        "model = Sequential()"
      ],
      "execution_count": 0,
      "outputs": []
    },
    {
      "cell_type": "code",
      "metadata": {
        "id": "j34zXKmdfDHS",
        "colab_type": "code",
        "colab": {}
      },
      "source": [
        "model.add(Dense(2,activation=\"sigmoid\",input_dim=3))\n",
        "model.add(Dense(3,activation=\"sigmoid\"))\n",
        "model.add(Dense(2))"
      ],
      "execution_count": 0,
      "outputs": []
    },
    {
      "cell_type": "code",
      "metadata": {
        "id": "zz4RYYwLiMh-",
        "colab_type": "code",
        "colab": {
          "base_uri": "https://localhost:8080/",
          "height": 88
        },
        "outputId": "e1c62de4-d2be-4b90-e137-7c643c8e1064"
      },
      "source": [
        "model.layers[0].get_weights()"
      ],
      "execution_count": 85,
      "outputs": [
        {
          "output_type": "execute_result",
          "data": {
            "text/plain": [
              "[array([[-0.04813135, -1.0731727 ],\n",
              "        [-0.5397035 ,  0.17119575],\n",
              "        [ 0.29503155,  0.65853524]], dtype=float32),\n",
              " array([0., 0.], dtype=float32)]"
            ]
          },
          "metadata": {
            "tags": []
          },
          "execution_count": 85
        }
      ]
    },
    {
      "cell_type": "code",
      "metadata": {
        "id": "_1FtFFTOhTFd",
        "colab_type": "code",
        "colab": {}
      },
      "source": [
        "w12=np.array([[0.2,-0.3],[0.4,0.1],[-0.5,0.2]])\n",
        "b1=np.array([0.4,0.2])\n",
        "weights1=[w12,b1]\n",
        "weights1\n",
        "\n",
        "model.layers[0].set_weights(weights1)"
      ],
      "execution_count": 0,
      "outputs": []
    },
    {
      "cell_type": "code",
      "metadata": {
        "id": "e3Scb32on17z",
        "colab_type": "code",
        "colab": {
          "base_uri": "https://localhost:8080/",
          "height": 71
        },
        "outputId": "fa437eee-d055-4ee8-a674-baa8d48accdf"
      },
      "source": [
        "model.layers[1].get_weights()"
      ],
      "execution_count": 87,
      "outputs": [
        {
          "output_type": "execute_result",
          "data": {
            "text/plain": [
              "[array([[-1.0616648 , -0.4424076 ,  0.5900806 ],\n",
              "        [ 0.5147824 ,  0.05521512,  0.26789558]], dtype=float32),\n",
              " array([0., 0., 0.], dtype=float32)]"
            ]
          },
          "metadata": {
            "tags": []
          },
          "execution_count": 87
        }
      ]
    },
    {
      "cell_type": "code",
      "metadata": {
        "id": "J4Dj1vkPnY3o",
        "colab_type": "code",
        "colab": {}
      },
      "source": [
        "w23=np.array([[-0.3,0.2,0.6],[-0.2,-0.1,-0.2]])\n",
        "b2=np.array([0.1,0.1,0.2])\n",
        "weights2=[w23,b2]\n",
        "weights2\n",
        "\n",
        "model.layers[1].set_weights(weights2)"
      ],
      "execution_count": 0,
      "outputs": []
    },
    {
      "cell_type": "code",
      "metadata": {
        "id": "Qjl9jqbtoWwL",
        "colab_type": "code",
        "colab": {
          "base_uri": "https://localhost:8080/",
          "height": 88
        },
        "outputId": "123c61b2-c20e-460b-e9b9-54fc48b9343f"
      },
      "source": [
        "model.layers[2].get_weights()"
      ],
      "execution_count": 89,
      "outputs": [
        {
          "output_type": "execute_result",
          "data": {
            "text/plain": [
              "[array([[-0.1593185 , -0.85527694],\n",
              "        [ 0.64663327, -0.8548711 ],\n",
              "        [-0.92834234,  0.30344892]], dtype=float32),\n",
              " array([0., 0.], dtype=float32)]"
            ]
          },
          "metadata": {
            "tags": []
          },
          "execution_count": 89
        }
      ]
    },
    {
      "cell_type": "code",
      "metadata": {
        "id": "nwrNErdrocRD",
        "colab_type": "code",
        "colab": {}
      },
      "source": [
        "w34=np.array([[0.3,0.2],[-0.5,0.5],[-0.7,0.2]])\n",
        "b4=np.array([0.1,0.2])\n",
        "weights3=[w34,b4]\n",
        "weights3\n",
        "\n",
        "model.layers[2].set_weights(weights3)"
      ],
      "execution_count": 0,
      "outputs": []
    },
    {
      "cell_type": "code",
      "metadata": {
        "id": "B-VwplA6px0e",
        "colab_type": "code",
        "colab": {}
      },
      "source": [
        "from keras import optimizers\n",
        "sgd = optimizers.SGD(lr=0.9)\n",
        "model.compile(loss='mean_squared_error', optimizer=sgd,metrics=['accuracy'])"
      ],
      "execution_count": 0,
      "outputs": []
    },
    {
      "cell_type": "code",
      "metadata": {
        "id": "VEW3kSHbqjaC",
        "colab_type": "code",
        "colab": {
          "base_uri": "https://localhost:8080/",
          "height": 71
        },
        "outputId": "03ac3ab8-0e00-4b9d-a150-6a22e59cd066"
      },
      "source": [
        "x=np.array([[1,0,1]])\n",
        "y=np.array([[1,0]])\n",
        "model.fit(x,y,epochs=1)\n",
        "\n",
        "#from keras.callbacks import Callback\n",
        "#cbk = CollectWeightCallback(layer_index=-1)\n",
        "#model.fit(x, y, epochs=1, callbacks=[cbk])"
      ],
      "execution_count": 92,
      "outputs": [
        {
          "output_type": "stream",
          "text": [
            "Epoch 1/1\n",
            "\r1/1 [==============================] - 0s 148ms/step - loss: 1.2860 - acc: 0.0000e+00\n"
          ],
          "name": "stdout"
        },
        {
          "output_type": "execute_result",
          "data": {
            "text/plain": [
              "<keras.callbacks.History at 0x7fb04cba21d0>"
            ]
          },
          "metadata": {
            "tags": []
          },
          "execution_count": 92
        }
      ]
    },
    {
      "cell_type": "code",
      "metadata": {
        "id": "-4dxYXewtNgm",
        "colab_type": "code",
        "colab": {
          "base_uri": "https://localhost:8080/",
          "height": 482
        },
        "outputId": "0302b17c-91a4-45ad-c597-e31648071e33"
      },
      "source": [
        "for i in range(3):\n",
        "  print(model.layers[i].get_weights())\n",
        "  print(\"\\n\\n\\n\\n\\n\")"
      ],
      "execution_count": 96,
      "outputs": [
        {
          "output_type": "stream",
          "text": [
            "[array([[ 0.14587797, -0.28498203],\n",
            "       [ 0.4       ,  0.1       ],\n",
            "       [-0.55412203,  0.21501799]], dtype=float32), array([0.34587798, 0.21501799], dtype=float32)]\n",
            "\n",
            "\n",
            "\n",
            "\n",
            "\n",
            "\n",
            "[array([[-0.2648723 ,  0.0747495 ,  0.46942055],\n",
            "       [-0.1648723 , -0.22525051, -0.3305795 ]], dtype=float32), array([ 0.16691256, -0.13858187, -0.04873271], dtype=float32)]\n",
            "\n",
            "\n",
            "\n",
            "\n",
            "\n",
            "\n",
            "[array([[ 0.9004086 , -0.08166339],\n",
            "       [ 0.2030983 ,  0.17016286],\n",
            "       [ 0.08546948, -0.16847907]], dtype=float32), array([ 1.4067509 , -0.41302234], dtype=float32)]\n",
            "\n",
            "\n",
            "\n",
            "\n",
            "\n",
            "\n"
          ],
          "name": "stdout"
        }
      ]
    },
    {
      "cell_type": "code",
      "metadata": {
        "id": "17HW3wAMt3ca",
        "colab_type": "code",
        "colab": {}
      },
      "source": [
        "wup1=[x1 - x2 for (x1, x2) in zip(weights1, model.layers[0].get_weights())]"
      ],
      "execution_count": 0,
      "outputs": []
    },
    {
      "cell_type": "code",
      "metadata": {
        "id": "no4X8xGJumWK",
        "colab_type": "code",
        "colab": {
          "base_uri": "https://localhost:8080/",
          "height": 88
        },
        "outputId": "4994d474-f51f-4259-e411-f4d59a17825b"
      },
      "source": [
        "wup1"
      ],
      "execution_count": 99,
      "outputs": [
        {
          "output_type": "execute_result",
          "data": {
            "text/plain": [
              "[array([[ 5.41220278e-02, -1.50179744e-02],\n",
              "        [-5.96046446e-09, -1.49011611e-09],\n",
              "        [ 5.41220307e-02, -1.50179893e-02]]),\n",
              " array([ 0.05412202, -0.01501799])]"
            ]
          },
          "metadata": {
            "tags": []
          },
          "execution_count": 99
        }
      ]
    },
    {
      "cell_type": "code",
      "metadata": {
        "id": "c69Rq7G4upGI",
        "colab_type": "code",
        "colab": {
          "base_uri": "https://localhost:8080/",
          "height": 71
        },
        "outputId": "7d9f4318-1847-4919-a35e-87b96c26f878"
      },
      "source": [
        "wup2=[x1 - x2 for (x1, x2) in zip(weights2, model.layers[1].get_weights())]\n",
        "wup2"
      ],
      "execution_count": 100,
      "outputs": [
        {
          "output_type": "execute_result",
          "data": {
            "text/plain": [
              "[array([[-0.03512769,  0.1252505 ,  0.13057945],\n",
              "        [-0.0351277 ,  0.12525051,  0.13057949]]),\n",
              " array([-0.06691256,  0.23858187,  0.24873271])]"
            ]
          },
          "metadata": {
            "tags": []
          },
          "execution_count": 100
        }
      ]
    },
    {
      "cell_type": "code",
      "metadata": {
        "id": "tuG1AqRsuwSM",
        "colab_type": "code",
        "colab": {
          "base_uri": "https://localhost:8080/",
          "height": 71
        },
        "outputId": "ff00a7d4-4aab-43aa-b38b-39c19c755fe4"
      },
      "source": [
        "wup3=[x1 - x2 for (x1, x2) in zip(weights3, model.layers[2].get_weights())]\n",
        "wup3"
      ],
      "execution_count": 101,
      "outputs": [
        {
          "output_type": "execute_result",
          "data": {
            "text/plain": [
              "[array([[-0.60040863,  0.28166339],\n",
              "        [-0.7030983 ,  0.32983714],\n",
              "        [-0.78546948,  0.36847907]]), array([-1.30675092,  0.61302234])]"
            ]
          },
          "metadata": {
            "tags": []
          },
          "execution_count": 101
        }
      ]
    }
  ]
}