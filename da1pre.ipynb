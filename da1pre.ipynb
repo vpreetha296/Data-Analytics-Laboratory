{
 "cells": [
  {
   "cell_type": "code",
   "execution_count": 1,
   "metadata": {},
   "outputs": [
    {
     "name": "stdout",
     "output_type": "stream",
     "text": [
      "<class 'pandas.core.frame.DataFrame'>\n",
      "RangeIndex: 99 entries, 0 to 98\n",
      "Data columns (total 13 columns):\n",
      "Age                 99 non-null int64\n",
      "Profession          99 non-null object\n",
      "Marrital Status     99 non-null object\n",
      "Education           99 non-null object\n",
      "No of Dependents    99 non-null int64\n",
      "Personal loan       99 non-null object\n",
      "House Loan          99 non-null object\n",
      "Wife Working        99 non-null object\n",
      "Salary              99 non-null int64\n",
      "Wife Salary         99 non-null int64\n",
      "Total Salary        99 non-null int64\n",
      "Make                99 non-null object\n",
      "Price               99 non-null int64\n",
      "dtypes: int64(6), object(7)\n",
      "memory usage: 10.1+ KB\n"
     ]
    }
   ],
   "source": [
    "import pandas as pd\n",
    "import numpy as np\n",
    "from scipy import stats\n",
    "import matplotlib.pyplot as plt\n",
    "pd.read_csv(\"C:\\\\Users\\\\Sandy\\\\Downloads\\\\Indian automobile.csv\")\n",
    "dat=pd.read_csv(\"C:\\\\Users\\\\Sandy\\\\Downloads\\\\Indian automobile.csv\")\n",
    "df=pd.DataFrame(dat)\n",
    "df.info()"
   ]
  },
  {
   "cell_type": "code",
   "execution_count": 2,
   "metadata": {},
   "outputs": [
    {
     "name": "stdout",
     "output_type": "stream",
     "text": [
      "    Age Profession Marrital Status      Education  No of Dependents  \\\n",
      "0    27   Salaried          Single  Post Graduate                 0   \n",
      "1    35   Salaried         Married  Post Graduate                 2   \n",
      "2    45   Business         Married       Graduate                 4   \n",
      "3    41   Business         Married  Post Graduate                 3   \n",
      "4    31   Salaried         Married  Post Graduate                 2   \n",
      "5    28   Salaried         Married       Graduate                 3   \n",
      "6    31   Salaried         Married       Graduate                 4   \n",
      "7    33   Business         Married  Post Graduate                 4   \n",
      "8    34   Business         Married  Post Graduate                 4   \n",
      "9    34   Salaried         Married       Graduate                 3   \n",
      "10   35   Salaried         Married  Post Graduate                 4   \n",
      "11   35   Salaried         Married       Graduate                 4   \n",
      "12   29   Salaried         Married  Post Graduate                 0   \n",
      "13   30   Business          Single  Post Graduate                 2   \n",
      "14   31   Business         Married       Graduate                 3   \n",
      "15   49   Salaried         Married  Post Graduate                 4   \n",
      "16   26   Salaried          Single  Post Graduate                 0   \n",
      "17   27   Salaried          Single       Graduate                 0   \n",
      "18   29   Salaried          Single  Post Graduate                 2   \n",
      "19   30   Salaried         Married       Graduate                 0   \n",
      "20   37   Salaried         Married  Post Graduate                 3   \n",
      "21   35   Business         Married       Graduate                 3   \n",
      "22   36   Business         Married       Graduate                 3   \n",
      "23   35   Business         Married  Post Graduate                 4   \n",
      "24   35   Salaried         Married       Graduate                 3   \n",
      "25   35   Salaried         Married       Graduate                 2   \n",
      "26   35   Salaried         Married  Post Graduate                 4   \n",
      "27   36   Business         Married       Graduate                 3   \n",
      "28   36   Salaried         Married  Post Graduate                 3   \n",
      "29   36   Salaried         Married  Post Graduate                 2   \n",
      "..  ...        ...             ...            ...               ...   \n",
      "69   37   Business         Married       Graduate                 3   \n",
      "70   37   Business         Married  Post Graduate                 2   \n",
      "71   37   Salaried         Married  Post Graduate                 2   \n",
      "72   37   Salaried         Married       Graduate                 2   \n",
      "73   35   Salaried         Married  Post Graduate                 0   \n",
      "74   36   Business         Married       Graduate                 0   \n",
      "75   36   Salaried         Married  Post Graduate                 2   \n",
      "76   36   Business         Married  Post Graduate                 2   \n",
      "77   36   Business         Married       Graduate                 3   \n",
      "78   44   Salaried         Married  Post Graduate                 3   \n",
      "79   45   Salaried         Married  Post Graduate                 2   \n",
      "80   46   Salaried         Married       Graduate                 3   \n",
      "81   44   Business         Married       Graduate                 2   \n",
      "82   43   Salaried         Married  Post Graduate                 3   \n",
      "83   42   Salaried         Married  Post Graduate                 2   \n",
      "84   42   Salaried         Married       Graduate                 3   \n",
      "85   42   Business         Married  Post Graduate                 3   \n",
      "86   29   Business          Single       Graduate                 0   \n",
      "87   33   Salaried         Married  Post Graduate                 2   \n",
      "88   34   Salaried         Married       Graduate                 2   \n",
      "89   34   Business         Married  Post Graduate                 3   \n",
      "90   35   Salaried         Married       Graduate                 2   \n",
      "91   36   Salaried         Married  Post Graduate                 3   \n",
      "92   37   Salaried         Married       Graduate                 2   \n",
      "93   27   Salaried          Single  Post Graduate                 0   \n",
      "94   27   Business          Single       Graduate                 0   \n",
      "95   50   Salaried         Married  Post Graduate                 3   \n",
      "96   51   Business         Married       Graduate                 2   \n",
      "97   51   Salaried         Married  Post Graduate                 2   \n",
      "98   51   Salaried         Married  Post Graduate                 2   \n",
      "\n",
      "   Personal loan House Loan Wife Working   Salary  Wife Salary  Total Salary  \\\n",
      "0            Yes         No           No   800000            0        800000   \n",
      "1            Yes        Yes          Yes  1400000       600000       2000000   \n",
      "2            Yes        Yes           No  1800000            0       1800000   \n",
      "3             No         No          Yes  1600000       600000       2200000   \n",
      "4            Yes         No          Yes  1800000       800000       2600000   \n",
      "5            Yes        Yes           No   900000            0        900000   \n",
      "6             No         No          Yes  1200000       600000       1800000   \n",
      "7             No         No           No  1400000            0       1400000   \n",
      "8             No         No           No  2000000            0       2000000   \n",
      "9            Yes        Yes          Yes  1200000       700000       1900000   \n",
      "10            No         No          Yes  1300000       700000       2000000   \n",
      "11           Yes        Yes            m  1400000            0       1400000   \n",
      "12            No         No          Yes   900000       800000       1700000   \n",
      "13           Yes         No           No  1400000            0       1400000   \n",
      "14           Yes        Yes          Yes   900000       400000       1300000   \n",
      "15            No         No          Yes  2500000      2000000       4500000   \n",
      "16            No         No           No   800000            0        800000   \n",
      "17           Yes         No          Yes   800000            0        800000   \n",
      "18            No         No           No   900000            0        900000   \n",
      "19            No         No          Yes   800000       500000       1300000   \n",
      "20            No        Yes          Yes  1700000       800000       2500000   \n",
      "21            No        Yes          Yes  1100000       800000       1900000   \n",
      "22            No         No          Yes  1400000      1000000       2400000   \n",
      "23            No         No          Yes   900000       500000       1400000   \n",
      "24           Yes         No          Yes  1400000       600000       2000000   \n",
      "25            No         No          Yes  1800000      1100000       2900000   \n",
      "26           Yes        Yes           No  1300000            0       1300000   \n",
      "27            No         No           No  1600000            0       1600000   \n",
      "28           Yes        Yes          Yes  1700000       900000       2600000   \n",
      "29            No         No          Yes  1800000       900000       2700000   \n",
      "..           ...        ...          ...      ...          ...           ...   \n",
      "69            No         No           No  1700000            0       1700000   \n",
      "70            No         No          Yes  1400000      1300000       2700000   \n",
      "71            No        Yes          Yes  1900000      1300000       3200000   \n",
      "72            No         No           No  1300000            0       1300000   \n",
      "73            No         No          Yes  1400000      1100000       2500000   \n",
      "74            No         No          Yes  1300000       700000       2000000   \n",
      "75            No         No          Yes  2300000      1300000       3600000   \n",
      "76           Yes        Yes           No  1900000            0       1900000   \n",
      "77            No        Yes          Yes  1800000      1100000       2900000   \n",
      "78            No         No           No  3100000            0       3100000   \n",
      "79            No        Yes          Yes  2700000      1800000       4500000   \n",
      "80           Yes        Yes           No  2100000            0       2100000   \n",
      "81            No         No          Yes  3100000      2100000       5200000   \n",
      "82           Yes        Yes           No  2400000            0       2400000   \n",
      "83            No        Yes           No  2900000            0       2900000   \n",
      "84           Yes        Yes           No  2700000            0       2700000   \n",
      "85           Yes        Yes           No  1800000            0       1800000   \n",
      "86           Yes         No           No  1100000            0       1100000   \n",
      "87            No         No          Yes  1400000       800000       2200000   \n",
      "88            No        Yes          Yes  2700000      1400000       4100000   \n",
      "89           Yes        Yes           No  1900000            0       1900000   \n",
      "90            No         No           No  1400000            0       1400000   \n",
      "91           Yes        Yes          Yes  3100000      1800000       4900000   \n",
      "92            No        Yes           No  2800000            0       2800000   \n",
      "93            No         No           No   900000            0        900000   \n",
      "94            No         No           No  2400000            0       2400000   \n",
      "95            No         No          Yes  3800000      1300000       5100000   \n",
      "96           Yes        Yes           No  2200000            0       2200000   \n",
      "97            No         No          Yes  2700000      1300000       4000000   \n",
      "98           Yes        Yes           No  2200000            0       2200000   \n",
      "\n",
      "       Make    Price  \n",
      "0       i20   800000  \n",
      "1      Ciaz  1000000  \n",
      "2    Duster  1200000  \n",
      "3      City  1200000  \n",
      "4       SUV  1600000  \n",
      "5    Baleno   700000  \n",
      "6      City  1200000  \n",
      "7    Baleno   700000  \n",
      "8     Verna  1100000  \n",
      "9       i20   800000  \n",
      "10      SUV  1600000  \n",
      "11   Baleno   700000  \n",
      "12    Verna   110000  \n",
      "13      i20   800000  \n",
      "14   Baleno   700000  \n",
      "15  Luxuray  3000000  \n",
      "16      i20   800000  \n",
      "17   Baleno   700000  \n",
      "18     City  1200000  \n",
      "19   Baleno   700000  \n",
      "20     City  1200000  \n",
      "21      i20   800000  \n",
      "22      SUV  1600000  \n",
      "23   Baleno   700000  \n",
      "24     Ciaz  1100000  \n",
      "25      SUV  1600000  \n",
      "26   Baleno   700000  \n",
      "27      i20   800000  \n",
      "28    Verna  1200000  \n",
      "29      SUV  1600000  \n",
      "..      ...      ...  \n",
      "69    Verna  1200000  \n",
      "70   Duster  1500000  \n",
      "71      SUV  1600000  \n",
      "72   Baleno   700000  \n",
      "73      SUV  1600000  \n",
      "74     City  1200000  \n",
      "75   Creata  1500000  \n",
      "76      i20   800000  \n",
      "77      SUV  1600000  \n",
      "78   Creata  1500000  \n",
      "79      SUV  1600000  \n",
      "80   Baleno   800000  \n",
      "81      SUV  1600000  \n",
      "82     Ciaz  1100000  \n",
      "83   Duster  1300000  \n",
      "84      i20   800000  \n",
      "85   Baleno   700000  \n",
      "86   Baleno   700000  \n",
      "87     City  1200000  \n",
      "88   Creata  1500000  \n",
      "89   Baleno   700000  \n",
      "90      i20   800000  \n",
      "91      SUV  1600000  \n",
      "92     City  1200000  \n",
      "93   Baleno   700000  \n",
      "94      SUV  1600000  \n",
      "95      SUV  1600000  \n",
      "96     Ciaz  1100000  \n",
      "97   Creata  1500000  \n",
      "98     Ciaz  1100000  \n",
      "\n",
      "[99 rows x 13 columns]\n"
     ]
    }
   ],
   "source": [
    "print(df)"
   ]
  },
  {
   "cell_type": "code",
   "execution_count": 3,
   "metadata": {},
   "outputs": [
    {
     "data": {
      "text/html": [
       "<div>\n",
       "<style scoped>\n",
       "    .dataframe tbody tr th:only-of-type {\n",
       "        vertical-align: middle;\n",
       "    }\n",
       "\n",
       "    .dataframe tbody tr th {\n",
       "        vertical-align: top;\n",
       "    }\n",
       "\n",
       "    .dataframe thead th {\n",
       "        text-align: right;\n",
       "    }\n",
       "</style>\n",
       "<table border=\"1\" class=\"dataframe\">\n",
       "  <thead>\n",
       "    <tr style=\"text-align: right;\">\n",
       "      <th></th>\n",
       "      <th>Age</th>\n",
       "      <th>No of Dependents</th>\n",
       "      <th>Salary</th>\n",
       "      <th>Wife Salary</th>\n",
       "      <th>Total Salary</th>\n",
       "      <th>Price</th>\n",
       "    </tr>\n",
       "  </thead>\n",
       "  <tbody>\n",
       "    <tr>\n",
       "      <th>count</th>\n",
       "      <td>99.000000</td>\n",
       "      <td>99.000000</td>\n",
       "      <td>9.900000e+01</td>\n",
       "      <td>9.900000e+01</td>\n",
       "      <td>9.900000e+01</td>\n",
       "      <td>9.900000e+01</td>\n",
       "    </tr>\n",
       "    <tr>\n",
       "      <th>mean</th>\n",
       "      <td>36.313131</td>\n",
       "      <td>2.181818</td>\n",
       "      <td>1.736364e+06</td>\n",
       "      <td>5.343434e+05</td>\n",
       "      <td>2.270707e+06</td>\n",
       "      <td>1.194040e+06</td>\n",
       "    </tr>\n",
       "    <tr>\n",
       "      <th>std</th>\n",
       "      <td>6.246054</td>\n",
       "      <td>1.335265</td>\n",
       "      <td>6.736217e+05</td>\n",
       "      <td>6.054450e+05</td>\n",
       "      <td>1.050777e+06</td>\n",
       "      <td>4.376955e+05</td>\n",
       "    </tr>\n",
       "    <tr>\n",
       "      <th>min</th>\n",
       "      <td>26.000000</td>\n",
       "      <td>0.000000</td>\n",
       "      <td>2.000000e+05</td>\n",
       "      <td>0.000000e+00</td>\n",
       "      <td>2.000000e+05</td>\n",
       "      <td>1.100000e+05</td>\n",
       "    </tr>\n",
       "    <tr>\n",
       "      <th>25%</th>\n",
       "      <td>31.000000</td>\n",
       "      <td>2.000000</td>\n",
       "      <td>1.300000e+06</td>\n",
       "      <td>0.000000e+00</td>\n",
       "      <td>1.550000e+06</td>\n",
       "      <td>8.000000e+05</td>\n",
       "    </tr>\n",
       "    <tr>\n",
       "      <th>50%</th>\n",
       "      <td>36.000000</td>\n",
       "      <td>2.000000</td>\n",
       "      <td>1.600000e+06</td>\n",
       "      <td>5.000000e+05</td>\n",
       "      <td>2.100000e+06</td>\n",
       "      <td>1.200000e+06</td>\n",
       "    </tr>\n",
       "    <tr>\n",
       "      <th>75%</th>\n",
       "      <td>41.000000</td>\n",
       "      <td>3.000000</td>\n",
       "      <td>2.200000e+06</td>\n",
       "      <td>9.000000e+05</td>\n",
       "      <td>2.700000e+06</td>\n",
       "      <td>1.500000e+06</td>\n",
       "    </tr>\n",
       "    <tr>\n",
       "      <th>max</th>\n",
       "      <td>51.000000</td>\n",
       "      <td>4.000000</td>\n",
       "      <td>3.800000e+06</td>\n",
       "      <td>2.100000e+06</td>\n",
       "      <td>5.200000e+06</td>\n",
       "      <td>3.000000e+06</td>\n",
       "    </tr>\n",
       "  </tbody>\n",
       "</table>\n",
       "</div>"
      ],
      "text/plain": [
       "             Age  No of Dependents        Salary   Wife Salary  Total Salary  \\\n",
       "count  99.000000         99.000000  9.900000e+01  9.900000e+01  9.900000e+01   \n",
       "mean   36.313131          2.181818  1.736364e+06  5.343434e+05  2.270707e+06   \n",
       "std     6.246054          1.335265  6.736217e+05  6.054450e+05  1.050777e+06   \n",
       "min    26.000000          0.000000  2.000000e+05  0.000000e+00  2.000000e+05   \n",
       "25%    31.000000          2.000000  1.300000e+06  0.000000e+00  1.550000e+06   \n",
       "50%    36.000000          2.000000  1.600000e+06  5.000000e+05  2.100000e+06   \n",
       "75%    41.000000          3.000000  2.200000e+06  9.000000e+05  2.700000e+06   \n",
       "max    51.000000          4.000000  3.800000e+06  2.100000e+06  5.200000e+06   \n",
       "\n",
       "              Price  \n",
       "count  9.900000e+01  \n",
       "mean   1.194040e+06  \n",
       "std    4.376955e+05  \n",
       "min    1.100000e+05  \n",
       "25%    8.000000e+05  \n",
       "50%    1.200000e+06  \n",
       "75%    1.500000e+06  \n",
       "max    3.000000e+06  "
      ]
     },
     "execution_count": 3,
     "metadata": {},
     "output_type": "execute_result"
    }
   ],
   "source": [
    "df.describe()"
   ]
  },
  {
   "cell_type": "code",
   "execution_count": 4,
   "metadata": {},
   "outputs": [
    {
     "data": {
      "text/plain": [
       "Age                 3.631313e+01\n",
       "No of Dependents    2.181818e+00\n",
       "Salary              1.736364e+06\n",
       "Wife Salary         5.343434e+05\n",
       "Total Salary        2.270707e+06\n",
       "Price               1.194040e+06\n",
       "dtype: float64"
      ]
     },
     "execution_count": 4,
     "metadata": {},
     "output_type": "execute_result"
    }
   ],
   "source": [
    "df.mean()"
   ]
  },
  {
   "cell_type": "code",
   "execution_count": 5,
   "metadata": {},
   "outputs": [
    {
     "data": {
      "text/plain": [
       "Age                      36.0\n",
       "No of Dependents          2.0\n",
       "Salary              1600000.0\n",
       "Wife Salary          500000.0\n",
       "Total Salary        2100000.0\n",
       "Price               1200000.0\n",
       "dtype: float64"
      ]
     },
     "execution_count": 5,
     "metadata": {},
     "output_type": "execute_result"
    }
   ],
   "source": [
    "df.median()"
   ]
  },
  {
   "cell_type": "code",
   "execution_count": 6,
   "metadata": {},
   "outputs": [
    {
     "data": {
      "text/html": [
       "<div>\n",
       "<style scoped>\n",
       "    .dataframe tbody tr th:only-of-type {\n",
       "        vertical-align: middle;\n",
       "    }\n",
       "\n",
       "    .dataframe tbody tr th {\n",
       "        vertical-align: top;\n",
       "    }\n",
       "\n",
       "    .dataframe thead th {\n",
       "        text-align: right;\n",
       "    }\n",
       "</style>\n",
       "<table border=\"1\" class=\"dataframe\">\n",
       "  <thead>\n",
       "    <tr style=\"text-align: right;\">\n",
       "      <th></th>\n",
       "      <th>Age</th>\n",
       "      <th>Profession</th>\n",
       "      <th>Marrital Status</th>\n",
       "      <th>Education</th>\n",
       "      <th>No of Dependents</th>\n",
       "      <th>Personal loan</th>\n",
       "      <th>House Loan</th>\n",
       "      <th>Wife Working</th>\n",
       "      <th>Salary</th>\n",
       "      <th>Wife Salary</th>\n",
       "      <th>Total Salary</th>\n",
       "      <th>Make</th>\n",
       "      <th>Price</th>\n",
       "    </tr>\n",
       "  </thead>\n",
       "  <tbody>\n",
       "    <tr>\n",
       "      <th>0</th>\n",
       "      <td>36.0</td>\n",
       "      <td>Salaried</td>\n",
       "      <td>Married</td>\n",
       "      <td>Post Graduate</td>\n",
       "      <td>3.0</td>\n",
       "      <td>No</td>\n",
       "      <td>No</td>\n",
       "      <td>Yes</td>\n",
       "      <td>1400000.0</td>\n",
       "      <td>0.0</td>\n",
       "      <td>1400000.0</td>\n",
       "      <td>Baleno</td>\n",
       "      <td>700000</td>\n",
       "    </tr>\n",
       "    <tr>\n",
       "      <th>1</th>\n",
       "      <td>NaN</td>\n",
       "      <td>NaN</td>\n",
       "      <td>NaN</td>\n",
       "      <td>NaN</td>\n",
       "      <td>NaN</td>\n",
       "      <td>NaN</td>\n",
       "      <td>NaN</td>\n",
       "      <td>NaN</td>\n",
       "      <td>NaN</td>\n",
       "      <td>NaN</td>\n",
       "      <td>NaN</td>\n",
       "      <td>SUV</td>\n",
       "      <td>1600000</td>\n",
       "    </tr>\n",
       "  </tbody>\n",
       "</table>\n",
       "</div>"
      ],
      "text/plain": [
       "    Age Profession Marrital Status      Education  No of Dependents  \\\n",
       "0  36.0   Salaried         Married  Post Graduate               3.0   \n",
       "1   NaN        NaN             NaN            NaN               NaN   \n",
       "\n",
       "  Personal loan House Loan Wife Working     Salary  Wife Salary  Total Salary  \\\n",
       "0            No         No          Yes  1400000.0          0.0     1400000.0   \n",
       "1           NaN        NaN          NaN        NaN          NaN           NaN   \n",
       "\n",
       "     Make    Price  \n",
       "0  Baleno   700000  \n",
       "1     SUV  1600000  "
      ]
     },
     "execution_count": 6,
     "metadata": {},
     "output_type": "execute_result"
    }
   ],
   "source": [
    "df.mode()"
   ]
  },
  {
   "cell_type": "code",
   "execution_count": 7,
   "metadata": {},
   "outputs": [
    {
     "name": "stdout",
     "output_type": "stream",
     "text": [
      "gmean is 1600641.9472558305\n"
     ]
    }
   ],
   "source": [
    "gmean=stats.gmean(df['Salary'])\n",
    "print('gmean is',gmean)"
   ]
  },
  {
   "cell_type": "code",
   "execution_count": 8,
   "metadata": {},
   "outputs": [
    {
     "name": "stdout",
     "output_type": "stream",
     "text": [
      "hmean is 1429351.2789331179\n"
     ]
    }
   ],
   "source": [
    "hmean=stats.hmean(df['Salary'])\n",
    "print('hmean is',hmean)"
   ]
  },
  {
   "cell_type": "code",
   "execution_count": 9,
   "metadata": {},
   "outputs": [
    {
     "data": {
      "text/plain": [
       "(array([ 1., 12.,  9., 30., 15., 12., 12.,  3.,  4.,  1.]),\n",
       " array([ 200000.,  560000.,  920000., 1280000., 1640000., 2000000.,\n",
       "        2360000., 2720000., 3080000., 3440000., 3800000.]),\n",
       " <a list of 10 Patch objects>)"
      ]
     },
     "execution_count": 9,
     "metadata": {},
     "output_type": "execute_result"
    },
    {
     "data": {
      "image/png": "[encoded data removed]",
      "text/plain": [
       "<Figure size 432x288 with 1 Axes>"
      ]
     },
     "metadata": {
      "needs_background": "light"
     },
     "output_type": "display_data"
    }
   ],
   "source": [
    "df.describe()\n",
    "plt.hist(df['Salary'])"
   ]
  },
  {
   "cell_type": "code",
   "execution_count": 10,
   "metadata": {},
   "outputs": [
    {
     "ename": "NameError",
     "evalue": "name 'freq' is not defined",
     "output_type": "error",
     "traceback": [
      "\u001b[1;31m---------------------------------------------------------------------------\u001b[0m",
      "\u001b[1;31mNameError\u001b[0m                                 Traceback (most recent call last)",
      "\u001b[1;32m<ipython-input-10-f912e13708a8>\u001b[0m in \u001b[0;36m<module>\u001b[1;34m\u001b[0m\n\u001b[0;32m      1\u001b[0m \u001b[1;32mfor\u001b[0m \u001b[0mitem\u001b[0m \u001b[1;32min\u001b[0m \u001b[0mdf\u001b[0m\u001b[1;33m[\u001b[0m\u001b[1;34m'Salary'\u001b[0m\u001b[1;33m]\u001b[0m\u001b[1;33m:\u001b[0m\u001b[1;33m\u001b[0m\u001b[1;33m\u001b[0m\u001b[0m\n\u001b[1;32m----> 2\u001b[1;33m         \u001b[1;32mif\u001b[0m \u001b[1;33m(\u001b[0m\u001b[0mitem\u001b[0m \u001b[1;32min\u001b[0m \u001b[0mfreq\u001b[0m\u001b[1;33m)\u001b[0m\u001b[1;33m:\u001b[0m\u001b[1;33m\u001b[0m\u001b[1;33m\u001b[0m\u001b[0m\n\u001b[0m\u001b[0;32m      3\u001b[0m             \u001b[0mfreq\u001b[0m\u001b[1;33m[\u001b[0m\u001b[0mitem\u001b[0m\u001b[1;33m]\u001b[0m \u001b[1;33m+=\u001b[0m \u001b[1;36m1\u001b[0m\u001b[1;33m\u001b[0m\u001b[1;33m\u001b[0m\u001b[0m\n\u001b[0;32m      4\u001b[0m         \u001b[1;32melse\u001b[0m\u001b[1;33m:\u001b[0m\u001b[1;33m\u001b[0m\u001b[1;33m\u001b[0m\u001b[0m\n\u001b[0;32m      5\u001b[0m             \u001b[0mfreq\u001b[0m\u001b[1;33m[\u001b[0m\u001b[0mitem\u001b[0m\u001b[1;33m]\u001b[0m \u001b[1;33m=\u001b[0m \u001b[1;36m1\u001b[0m\u001b[1;33m\u001b[0m\u001b[1;33m\u001b[0m\u001b[0m\n",
      "\u001b[1;31mNameError\u001b[0m: name 'freq' is not defined"
     ]
    }
   ],
   "source": [
    "for item in df['Salary']: \n",
    "        if (item in freq): \n",
    "            freq[item] += 1\n",
    "        else: \n",
    "            freq[item] = 1\n",
    "key=[x for x in freq.keys()]\n",
    "key"
   ]
  },
  {
   "cell_type": "code",
   "execution_count": 11,
   "metadata": {},
   "outputs": [
    {
     "data": {
      "text/plain": [
       "[800000,\n",
       " 1400000,\n",
       " 1800000,\n",
       " 1600000,\n",
       " 900000,\n",
       " 1200000,\n",
       " 2000000,\n",
       " 1300000,\n",
       " 2500000,\n",
       " 1700000,\n",
       " 1100000,\n",
       " 1900000,\n",
       " 2100000,\n",
       " 2400000,\n",
       " 2200000,\n",
       " 200000,\n",
       " 1500000,\n",
       " 2700000,\n",
       " 2900000,\n",
       " 3100000,\n",
       " 2600000,\n",
       " 2300000,\n",
       " 2800000,\n",
       " 3800000]"
      ]
     },
     "execution_count": 11,
     "metadata": {},
     "output_type": "execute_result"
    }
   ],
   "source": [
    "freq={}\n",
    "for item in df['Salary']: \n",
    "        if (item in freq): \n",
    "            freq[item] += 1\n",
    "        else: \n",
    "            freq[item] = 1\n",
    "key=[x for x in freq.keys()]\n",
    "key"
   ]
  },
  {
   "cell_type": "code",
   "execution_count": 12,
   "metadata": {},
   "outputs": [
    {
     "data": {
      "text/plain": [
       "[800000,\n",
       " 1400000,\n",
       " 1800000,\n",
       " 1600000,\n",
       " 900000,\n",
       " 1200000,\n",
       " 2000000,\n",
       " 1300000,\n",
       " 2500000,\n",
       " 1700000,\n",
       " 1100000,\n",
       " 1900000,\n",
       " 2100000,\n",
       " 2400000,\n",
       " 2200000,\n",
       " 200000,\n",
       " 1500000,\n",
       " 2700000,\n",
       " 2900000,\n",
       " 3100000,\n",
       " 2600000,\n",
       " 2300000,\n",
       " 2800000,\n",
       " 3800000,\n",
       " 0,\n",
       " 2,\n",
       " 4,\n",
       " 3]"
      ]
     },
     "execution_count": 12,
     "metadata": {},
     "output_type": "execute_result"
    }
   ],
   "source": [
    "for item in df['No of Dependents']: \n",
    "        if (item in freq): \n",
    "            freq[item] += 1\n",
    "        else: \n",
    "            freq[item] = 1\n",
    "key=[x for x in freq.keys()]\n",
    "key"
   ]
  },
  {
   "cell_type": "code",
   "execution_count": 13,
   "metadata": {},
   "outputs": [
    {
     "data": {
      "text/plain": [
       "[0, 2, 4, 3]"
      ]
     },
     "execution_count": 13,
     "metadata": {},
     "output_type": "execute_result"
    }
   ],
   "source": [
    "freq={}\n",
    "for item in df['No of Dependents']: \n",
    "        if (item in freq): \n",
    "            freq[item] += 1\n",
    "        else: \n",
    "            freq[item] = 1\n",
    "key=[x for x in freq.keys()]\n",
    "key"
   ]
  },
  {
   "cell_type": "code",
   "execution_count": 14,
   "metadata": {},
   "outputs": [
    {
     "data": {
      "text/plain": [
       "[800000,\n",
       " 1400000,\n",
       " 1800000,\n",
       " 1600000,\n",
       " 900000,\n",
       " 1200000,\n",
       " 2000000,\n",
       " 1300000,\n",
       " 2500000,\n",
       " 1700000,\n",
       " 1100000,\n",
       " 1900000,\n",
       " 2100000,\n",
       " 2400000,\n",
       " 2200000,\n",
       " 200000,\n",
       " 1500000,\n",
       " 2700000,\n",
       " 2900000,\n",
       " 3100000,\n",
       " 2600000,\n",
       " 2300000,\n",
       " 2800000,\n",
       " 3800000]"
      ]
     },
     "execution_count": 14,
     "metadata": {},
     "output_type": "execute_result"
    }
   ],
   "source": [
    "freq={}\n",
    "for item in df['Salary']: \n",
    "        if (item in freq): \n",
    "            freq[item] += 1\n",
    "        else: \n",
    "            freq[item] = 1\n",
    "key=[x for x in freq.keys()]\n",
    "key"
   ]
  },
  {
   "cell_type": "code",
   "execution_count": 15,
   "metadata": {},
   "outputs": [
    {
     "data": {
      "text/plain": [
       "[4, 17, 7, 5, 8, 3, 4, 6, 2, 3, 6, 5, 2, 3, 5, 1, 2, 6, 2, 4, 1, 1, 1, 1]"
      ]
     },
     "execution_count": 15,
     "metadata": {},
     "output_type": "execute_result"
    }
   ],
   "source": [
    "value=[freq[x] for x in freq.keys()]\n",
    "value"
   ]
  },
  {
   "cell_type": "code",
   "execution_count": 16,
   "metadata": {},
   "outputs": [
    {
     "data": {
      "image/png": "[encoded data removed]",
      "text/plain": [
       "<Figure size 432x288 with 1 Axes>"
      ]
     },
     "metadata": {},
     "output_type": "display_data"
    }
   ],
   "source": [
    "plt.pie(value,labels=key,autopct='%.1f%%',startangle=90)\n",
    "plt.show()"
   ]
  },
  {
   "cell_type": "code",
   "execution_count": 17,
   "metadata": {},
   "outputs": [
    {
     "data": {
      "image/png": "[encoded data removed]",
      "text/plain": [
       "<Figure size 432x288 with 1 Axes>"
      ]
     },
     "metadata": {
      "needs_background": "light"
     },
     "output_type": "display_data"
    }
   ],
   "source": [
    "plt.bar(key,value)\n",
    "plt.show()"
   ]
  },
  {
   "cell_type": "code",
   "execution_count": 18,
   "metadata": {},
   "outputs": [
    {
     "name": "stderr",
     "output_type": "stream",
     "text": [
      "C:\\Users\\Sandy\\Anaconda3\\lib\\site-packages\\matplotlib\\cbook\\__init__.py:424: MatplotlibDeprecationWarning: \n",
      "Passing one of 'on', 'true', 'off', 'false' as a boolean is deprecated; use an actual boolean (True/False) instead.\n",
      "  warn_deprecated(\"2.2\", \"Passing one of 'on', 'true', 'off', 'false' as a \"\n"
     ]
    },
    {
     "data": {
      "text/plain": [
       "<matplotlib.axes._subplots.AxesSubplot at 0x27a8183fb38>"
      ]
     },
     "execution_count": 18,
     "metadata": {},
     "output_type": "execute_result"
    },
    {
     "data": {
      "image/png": "[encoded data removed]",
      "text/plain": [
       "<Figure size 432x288 with 1 Axes>"
      ]
     },
     "metadata": {
      "needs_background": "light"
     },
     "output_type": "display_data"
    }
   ],
   "source": [
    "df = pd.DataFrame(np.random.rand(10, 5), columns=['1', '2', '3', '4', '5'])\n",
    "df.plot.box(grid='True')"
   ]
  },
  {
   "cell_type": "code",
   "execution_count": 19,
   "metadata": {},
   "outputs": [
    {
     "data": {
      "text/plain": [
       "<matplotlib.axes._subplots.AxesSubplot at 0x27a81914860>"
      ]
     },
     "execution_count": 19,
     "metadata": {},
     "output_type": "execute_result"
    },
    {
     "data": {
      "image/png": "[encoded data removed]",
      "text/plain": [
       "<Figure size 432x288 with 1 Axes>"
      ]
     },
     "metadata": {
      "needs_background": "light"
     },
     "output_type": "display_data"
    }
   ],
   "source": [
    "df = pd.DataFrame(np.random.rand(10, 5), columns=['1', '2', '3', '4', '5'])\n",
    "df.plot.box(grid='False')"
   ]
  },
  {
   "cell_type": "code",
   "execution_count": null,
   "metadata": {},
   "outputs": [],
   "source": []
  }
 ],
 "metadata": {
  "kernelspec": {
   "display_name": "Python 3",
   "language": "python",
   "name": "python3"
  },
  "language_info": {
   "codemirror_mode": {
    "name": "ipython",
    "version": 3
   },
   "file_extension": ".py",
   "mimetype": "text/x-python",
   "name": "python",
   "nbconvert_exporter": "python",
   "pygments_lexer": "ipython3",
   "version": "3.7.1"
  }
 },
 "nbformat": 4,
 "nbformat_minor": 2
}
